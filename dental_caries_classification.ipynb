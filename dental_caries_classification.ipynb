{
  "nbformat": 4,
  "nbformat_minor": 0,
  "metadata": {
    "colab": {
      "name": "dental_caries_classification.ipynb",
      "provenance": [],
      "include_colab_link": true
    },
    "kernelspec": {
      "name": "python3",
      "display_name": "Python 3"
    },
    "accelerator": "GPU"
  },
  "cells": [
    {
      "cell_type": "markdown",
      "metadata": {
        "id": "view-in-github",
        "colab_type": "text"
      },
      "source": [
        "<a href=\"https://colab.research.google.com/github/armiro/Dental-Caries-Classification/blob/master/dental_caries_classification.ipynb\" target=\"_parent\"><img src=\"https://colab.research.google.com/assets/colab-badge.svg\" alt=\"Open In Colab\"/></a>"
      ]
    },
    {
      "cell_type": "code",
      "metadata": {
        "id": "VTPyWg9YMkTJ",
        "colab_type": "code",
        "outputId": "9b0ee4a7-b0f4-44ba-a7d7-2222a88a34f3",
        "colab": {
          "base_uri": "https://localhost:8080/",
          "height": 124
        }
      },
      "source": [
        "from google.colab import drive\n",
        "drive.mount('/content/drive')"
      ],
      "execution_count": 1,
      "outputs": [
        {
          "output_type": "stream",
          "text": [
            "Go to this URL in a browser: https://accounts.google.com/o/oauth2/auth?client_id=947318989803-6bn6qk8qdgf4n4g3pfee6491hc0brc4i.apps.googleusercontent.com&redirect_uri=urn%3Aietf%3Awg%3Aoauth%3A2.0%3Aoob&scope=email%20https%3A%2F%2Fwww.googleapis.com%2Fauth%2Fdocs.test%20https%3A%2F%2Fwww.googleapis.com%2Fauth%2Fdrive%20https%3A%2F%2Fwww.googleapis.com%2Fauth%2Fdrive.photos.readonly%20https%3A%2F%2Fwww.googleapis.com%2Fauth%2Fpeopleapi.readonly&response_type=code\n",
            "\n",
            "Enter your authorization code:\n",
            "··········\n",
            "Mounted at /content/drive\n"
          ],
          "name": "stdout"
        }
      ]
    },
    {
      "cell_type": "code",
      "metadata": {
        "id": "zsPQIpBpN8PX",
        "colab_type": "code",
        "colab": {}
      },
      "source": [
        "from keras.layers import Conv2D, MaxPooling2D, Flatten, Dense, Input\n",
        "from keras.preprocessing.image import load_img, img_to_array\n",
        "import numpy as np\n",
        "import matplotlib.pyplot as plt\n",
        "from itertools import chain\n",
        "import glob\n",
        "import copy\n",
        "import time"
      ],
      "execution_count": 0,
      "outputs": []
    },
    {
      "cell_type": "code",
      "metadata": {
        "id": "FjdcCou6Qg6u",
        "colab_type": "code",
        "outputId": "7fcc05ba-758b-4cc3-979c-b78a76844a32",
        "colab": {
          "base_uri": "https://localhost:8080/",
          "height": 35
        }
      },
      "source": [
        "path = './drive/My Drive/small_caries_dataset/Healthy/**.jpg'\n",
        "neg_images = list()\n",
        "for img_name in glob.glob(pathname=path):\n",
        "  img = load_img(path=img_name, color_mode='grayscale')\n",
        "  img = img_to_array(img=img, data_format='channels_last')\n",
        "  img = fit_to_background(img)\n",
        "  img = np.expand_dims(a=img, axis=-1)\n",
        "  neg_images.append(img)\n",
        "\n",
        "neg_images = np.array(neg_images)\n",
        "print('num healthy images:', len(neg_images))"
      ],
      "execution_count": 50,
      "outputs": [
        {
          "output_type": "stream",
          "text": [
            "num healthy images: 238\n"
          ],
          "name": "stdout"
        }
      ]
    },
    {
      "cell_type": "code",
      "metadata": {
        "colab_type": "code",
        "outputId": "d8c6fc14-98cc-4524-a63f-6f33d80eab66",
        "id": "UZyUcUD-VNdM",
        "colab": {
          "base_uri": "https://localhost:8080/",
          "height": 35
        }
      },
      "source": [
        "path = './drive/My Drive/small_caries_dataset/Caries/**.jpg'\n",
        "pos_images = list()\n",
        "for img_name in glob.glob(pathname=path):\n",
        "  img = load_img(path=img_name, color_mode='grayscale')\n",
        "  img = img_to_array(img=img, data_format='channels_last')\n",
        "  img = fit_to_background(img)\n",
        "  img = np.expand_dims(a=img, axis=-1)\n",
        "  pos_images.append(img)\n",
        "\n",
        "pos_images = np.array(pos_images)\n",
        "print('num carious images:', len(pos_images))"
      ],
      "execution_count": 51,
      "outputs": [
        {
          "output_type": "stream",
          "text": [
            "num carious images: 45\n"
          ],
          "name": "stdout"
        }
      ]
    },
    {
      "cell_type": "code",
      "metadata": {
        "id": "Y5Ks_6s5ePrA",
        "colab_type": "code",
        "outputId": "f7cd2f4f-76c1-4e20-cf5b-fac9b8320a16",
        "colab": {
          "base_uri": "https://localhost:8080/",
          "height": 35
        }
      },
      "source": [
        "num_iter = int(len(neg_images) / len(pos_images))-1\n",
        "generated_pos_images = copy.deepcopy(x=pos_images)\n",
        "for _ in range(num_iter):\n",
        "  new_pos_images = copy.deepcopy(x=pos_images)\n",
        "  generated_pos_images = np.concatenate((generated_pos_images, new_pos_images))\n",
        "\n",
        "print('num repeated carious images:', len(generated_pos_images))"
      ],
      "execution_count": 52,
      "outputs": [
        {
          "output_type": "stream",
          "text": [
            "num repeated carious images: 225\n"
          ],
          "name": "stdout"
        }
      ]
    },
    {
      "cell_type": "code",
      "metadata": {
        "id": "anFGnFI8mWn8",
        "colab_type": "code",
        "colab": {}
      },
      "source": [
        "from keras.preprocessing.image import ImageDataGenerator\n",
        "\n",
        "aug = ImageDataGenerator(rotation_range=30, zoom_range=[1., 2.], \n",
        "                         width_shift_range=0.25, height_shift_range=0.25, \n",
        "                         shear_range=0.15, horizontal_flip=True, \n",
        "                         vertical_flip=True, fill_mode='constant', cval=0.0)"
      ],
      "execution_count": 0,
      "outputs": []
    },
    {
      "cell_type": "code",
      "metadata": {
        "id": "xaOtStY-zF3J",
        "colab_type": "code",
        "colab": {}
      },
      "source": [
        "'''data augmentation using albumentation functions'''\n",
        "\n",
        "# from albumentations import Compose, HorizontalFlip, VerticalFlip\n",
        "\n",
        "# def do_augmentation():\n",
        "#   return Compose(transforms=[HorizontalFlip(always_apply=True), \n",
        "#                              VerticalFlip(always_apply=True)])\n",
        "\n",
        "# aug_pos_images = list()\n",
        "# for pos_img in generated_pos_images:\n",
        "#   aug = do_augmentation()\n",
        "#   img_dict = {'image': pos_img}\n",
        "#   new_pos_img = aug(**img_dict)\n",
        "#   new_pos_img = chain.from_iterable(new_pos_img.values())\n",
        "#   new_pos_img = np.array(list(new_pos_img))\n",
        "#   aug_pos_images.append(new_pos_img)\n",
        "\n",
        "# aug_pos_images = np.array(aug_pos_images)\n",
        "# pos_images = np.concatenate((generated_pos_images, aug_pos_images))\n",
        "\n",
        "# aug_neg_images = list()\n",
        "# for neg_img in neg_images:\n",
        "#   aug = do_augmentation()\n",
        "#   img_dict = {'image': neg_img}\n",
        "#   new_neg_img = aug(**img_dict)\n",
        "#   new_neg_img = chain.from_iterable(new_neg_img.values())\n",
        "#   new_neg_img = np.array(list(new_neg_img))\n",
        "#   aug_neg_images.append(new_pos_img)\n",
        "\n",
        "# aug_neg_images = np.array(aug_neg_images)\n",
        "# neg_images = np.concatenate((neg_images, aug_neg_images))"
      ],
      "execution_count": 0,
      "outputs": []
    },
    {
      "cell_type": "code",
      "metadata": {
        "id": "ysz_jwbqXTMl",
        "colab_type": "code",
        "colab": {}
      },
      "source": [
        "neg_labels = [0 for _ in range(len(neg_images))]\n",
        "pos_labels = [1 for _ in range(len(generated_pos_images))]"
      ],
      "execution_count": 0,
      "outputs": []
    },
    {
      "cell_type": "code",
      "metadata": {
        "id": "cSoCU0GJXsSZ",
        "colab_type": "code",
        "outputId": "9456dd83-24aa-4fa9-d034-862b52d9fd2e",
        "colab": {
          "base_uri": "https://localhost:8080/",
          "height": 52
        }
      },
      "source": [
        "X = np.concatenate((generated_pos_images, neg_images))\n",
        "y = np.array(pos_labels + neg_labels)\n",
        "\n",
        "print('num total dataset images:', len(X))\n",
        "print('num total dataset labels:', len(y))"
      ],
      "execution_count": 55,
      "outputs": [
        {
          "output_type": "stream",
          "text": [
            "num total dataset images: 463\n",
            "num total dataset labels: 463\n"
          ],
          "name": "stdout"
        }
      ]
    },
    {
      "cell_type": "code",
      "metadata": {
        "id": "bojZMZoUVWZ7",
        "colab_type": "code",
        "colab": {}
      },
      "source": [
        "from sklearn.model_selection import train_test_split\n",
        "X_train, X_test, y_train, y_test = train_test_split(X, y, test_size=0.2, \n",
        "                                                    random_state=21)"
      ],
      "execution_count": 0,
      "outputs": []
    },
    {
      "cell_type": "code",
      "metadata": {
        "id": "C5u6eHa9YCop",
        "colab_type": "code",
        "colab": {}
      },
      "source": [
        "from keras import Model\n",
        "inputA = Input(shape=pos_images[0].shape)\n",
        "\n",
        "x = Conv2D(filters=64, kernel_size=3, strides=2, padding='same', activation='relu')(inputA)\n",
        "x1 = MaxPooling2D(pool_size=2, strides=2, padding='same')(x)\n",
        "x2 = Conv2D(filters=32, kernel_size=3, strides=2, padding='same', activation='relu')(x1)\n",
        "x3 = MaxPooling2D(pool_size=2, strides=2, padding='same')(x2)\n",
        "x4 = Conv2D(filters=32, kernel_size=3, strides=2, padding='same', activation='relu')(x3)\n",
        "x5 = MaxPooling2D(pool_size=2, strides=2, padding='same')(x4)\n",
        "x6 = Flatten()(x5)\n",
        "x7 = Dense(units=10, activation='relu')(x6)\n",
        "x8 = Dense(units=1, activation='sigmoid')(x7)\n",
        "net = Model(inputs=inputA, outputs=x8)"
      ],
      "execution_count": 0,
      "outputs": []
    },
    {
      "cell_type": "code",
      "metadata": {
        "id": "PNntOAX_a1NX",
        "colab_type": "code",
        "outputId": "d809add1-b4c6-490f-9749-b091c7759f0c",
        "colab": {
          "base_uri": "https://localhost:8080/",
          "height": 503
        }
      },
      "source": [
        "net.compile(optimizer='adam', loss='binary_crossentropy', metrics=['accuracy'])\n",
        "net.summary()"
      ],
      "execution_count": 79,
      "outputs": [
        {
          "output_type": "stream",
          "text": [
            "Model: \"model_7\"\n",
            "_________________________________________________________________\n",
            "Layer (type)                 Output Shape              Param #   \n",
            "=================================================================\n",
            "input_8 (InputLayer)         (None, 400, 400, 1)       0         \n",
            "_________________________________________________________________\n",
            "conv2d_14 (Conv2D)           (None, 200, 200, 64)      640       \n",
            "_________________________________________________________________\n",
            "max_pooling2d_13 (MaxPooling (None, 100, 100, 64)      0         \n",
            "_________________________________________________________________\n",
            "conv2d_15 (Conv2D)           (None, 50, 50, 32)        18464     \n",
            "_________________________________________________________________\n",
            "max_pooling2d_14 (MaxPooling (None, 25, 25, 32)        0         \n",
            "_________________________________________________________________\n",
            "conv2d_16 (Conv2D)           (None, 13, 13, 32)        9248      \n",
            "_________________________________________________________________\n",
            "max_pooling2d_15 (MaxPooling (None, 7, 7, 32)          0         \n",
            "_________________________________________________________________\n",
            "flatten_7 (Flatten)          (None, 1568)              0         \n",
            "_________________________________________________________________\n",
            "dense_13 (Dense)             (None, 10)                15690     \n",
            "_________________________________________________________________\n",
            "dense_14 (Dense)             (None, 1)                 11        \n",
            "=================================================================\n",
            "Total params: 44,053\n",
            "Trainable params: 44,053\n",
            "Non-trainable params: 0\n",
            "_________________________________________________________________\n"
          ],
          "name": "stdout"
        }
      ]
    },
    {
      "cell_type": "code",
      "metadata": {
        "id": "LnvcWUNkbKXx",
        "colab_type": "code",
        "outputId": "e6db9cde-fce1-4835-83d9-3ba05626806b",
        "colab": {
          "base_uri": "https://localhost:8080/",
          "height": 555
        }
      },
      "source": [
        "t0 = time.time()\n",
        "\n",
        "net.fit_generator(generator=aug.flow(x=X_train, y=y_train, batch_size=8), \n",
        "                  epochs=15, verbose=1)\n",
        "# net.fit(x=X_train, y=y_train, batch_size=8, epochs=5, verbose=1)\n",
        "\n",
        "t1 = time.time()\n",
        "print('total training time: %.2f secs' % (round(t1-t0, ndigits=2)))"
      ],
      "execution_count": 80,
      "outputs": [
        {
          "output_type": "stream",
          "text": [
            "Epoch 1/15\n",
            "47/47 [==============================] - 4s 85ms/step - loss: 0.8904 - acc: 0.4894\n",
            "Epoch 2/15\n",
            "47/47 [==============================] - 4s 77ms/step - loss: 0.6991 - acc: 0.5052\n",
            "Epoch 3/15\n",
            "47/47 [==============================] - 4s 77ms/step - loss: 0.6964 - acc: 0.5372\n",
            "Epoch 4/15\n",
            "47/47 [==============================] - 4s 77ms/step - loss: 0.6925 - acc: 0.5346\n",
            "Epoch 5/15\n",
            "47/47 [==============================] - 4s 75ms/step - loss: 0.6955 - acc: 0.5371\n",
            "Epoch 6/15\n",
            "47/47 [==============================] - 4s 77ms/step - loss: 0.6918 - acc: 0.5346\n",
            "Epoch 7/15\n",
            "47/47 [==============================] - 4s 77ms/step - loss: 0.6925 - acc: 0.5346\n",
            "Epoch 8/15\n",
            "47/47 [==============================] - 4s 75ms/step - loss: 0.6916 - acc: 0.5717\n",
            "Epoch 9/15\n",
            "47/47 [==============================] - 4s 77ms/step - loss: 0.6920 - acc: 0.5239\n",
            "Epoch 10/15\n",
            "47/47 [==============================] - 4s 78ms/step - loss: 0.6914 - acc: 0.5239\n",
            "Epoch 11/15\n",
            "47/47 [==============================] - 4s 77ms/step - loss: 0.6965 - acc: 0.5372\n",
            "Epoch 12/15\n",
            "47/47 [==============================] - 4s 77ms/step - loss: 0.6849 - acc: 0.5532\n",
            "Epoch 13/15\n",
            "47/47 [==============================] - 4s 78ms/step - loss: 0.6931 - acc: 0.5427\n",
            "Epoch 14/15\n",
            "47/47 [==============================] - 4s 77ms/step - loss: 0.6917 - acc: 0.5268\n",
            "Epoch 15/15\n",
            "47/47 [==============================] - 4s 75ms/step - loss: 0.6909 - acc: 0.5319\n",
            "total training time: 54.98 secs\n"
          ],
          "name": "stdout"
        }
      ]
    },
    {
      "cell_type": "code",
      "metadata": {
        "id": "In-QJohqmRD5",
        "colab_type": "code",
        "colab": {
          "base_uri": "https://localhost:8080/",
          "height": 208
        },
        "outputId": "b7ae16c5-debd-44c1-b99a-f9014f2badca"
      },
      "source": [
        "from sklearn.metrics import confusion_matrix\n",
        "\n",
        "# y_pred = net.predict(x=aug.flow(x=X_test, batch_size=8))\n",
        "y_pred = net.predict(x=X_test)\n",
        "y_test = np.reshape(a=y_test, newshape=(1, -1))\n",
        "\n",
        "num_test_set = len(y_test[0])\n",
        "print('num test-set images:', num_test_set)\n",
        "print(y_test)\n",
        "y_pred = np.round(np.reshape(a=y_pred, newshape=(1, -1)))\n",
        "print(y_pred)\n",
        "\n",
        "cm = confusion_matrix(y_true=y_test[0], y_pred=y_pred[0])\n",
        "print(cm)\n",
        "print('test-set acc:', (cm[0][0] + cm[1][1])/np.sum(cm))"
      ],
      "execution_count": 81,
      "outputs": [
        {
          "output_type": "stream",
          "text": [
            "num test-set images: 93\n",
            "[[1 1 0 1 1 0 0 0 1 1 0 0 1 0 1 0 1 1 1 0 0 1 0 0 1 0 1 1 1 1 1 1 1 0 1 1\n",
            "  1 0 0 1 1 0 0 1 0 0 1 1 1 1 1 0 0 0 1 1 1 0 1 1 1 0 0 1 0 1 1 0 1 0 0 0\n",
            "  0 0 0 1 1 0 1 1 1 0 1 1 0 1 0 0 0 1 1 1 1]]\n",
            "[[0. 0. 0. 0. 0. 0. 0. 0. 0. 0. 0. 0. 0. 0. 0. 0. 0. 0. 0. 0. 0. 0. 0. 0.\n",
            "  0. 0. 0. 0. 0. 0. 0. 0. 0. 0. 0. 0. 0. 0. 0. 0. 0. 0. 0. 0. 0. 0. 0. 0.\n",
            "  0. 0. 0. 0. 0. 0. 0. 0. 0. 0. 0. 0. 0. 0. 0. 0. 0. 0. 0. 0. 0. 0. 0. 0.\n",
            "  0. 0. 0. 0. 0. 0. 0. 0. 0. 0. 0. 0. 0. 0. 0. 0. 0. 0. 0. 0. 0.]]\n",
            "[[40  0]\n",
            " [53  0]]\n",
            "test-set acc: 0.43010752688172044\n"
          ],
          "name": "stdout"
        }
      ]
    },
    {
      "cell_type": "code",
      "metadata": {
        "id": "64bkKOAC5FuH",
        "colab_type": "code",
        "colab": {}
      },
      "source": [
        "'''fit the image to the background (when needed)'''\n",
        "import cv2\n",
        "def fit_to_background(image):\n",
        "  image = image.squeeze()\n",
        "  _, res = cv2.threshold(src=image, thresh=10, maxval=255, type=cv2.THRESH_BINARY)\n",
        "  res = np.where(res>0, 255, 0).astype(np.uint8)\n",
        "  _, cnts, _ = cv2.findContours(res, mode=cv2.RETR_EXTERNAL, method=cv2.CHAIN_APPROX_SIMPLE)\n",
        "  x, y, w, h = cv2.boundingRect(cnts[0])\n",
        "  image = image[y:y+h, x:x+w]\n",
        "  image = cv2.resize(src=image, dsize=(400, 400))\n",
        "  return image"
      ],
      "execution_count": 0,
      "outputs": []
    },
    {
      "cell_type": "code",
      "metadata": {
        "id": "UkwkZ13Q9QMU",
        "colab_type": "code",
        "colab": {}
      },
      "source": [
        "img = X_test[-7]\n",
        "plt.imshow(img.squeeze())\n",
        "plt.show()\n",
        "fitted_img = fit_to_background(image=img)\n",
        "plt.imshow(fitted_img)\n",
        "plt.show()\n",
        "print(net.predict(img.reshape(1, img.shape[1], img.shape[0], -1)))"
      ],
      "execution_count": 0,
      "outputs": []
    },
    {
      "cell_type": "code",
      "metadata": {
        "id": "RT-J9_bqWwho",
        "colab_type": "code",
        "outputId": "291d759a-0230-451e-a9d0-934d3d532cf4",
        "colab": {
          "base_uri": "https://localhost:8080/",
          "height": 539
        }
      },
      "source": [
        "img = X_test[-7]\n",
        "k_sz = 20\n",
        "prob_map = np.zeros(shape=img.shape)\n",
        "t0 = time.time()\n",
        "for row_idx in range(0, img.shape[1]-k_sz, 5):\n",
        "  for col_idx in range(0, img.shape[0]-k_sz, 5):\n",
        "    masked = copy.deepcopy(x=img)\n",
        "    masked[row_idx:row_idx+k_sz, col_idx:col_idx+k_sz] = 0\n",
        "    prob = net.predict(x=masked.reshape(1, img.shape[0], img.shape[1], 1))\n",
        "    prob_map[row_idx:row_idx+k_sz, col_idx:col_idx+k_sz] = 1 - prob\n",
        "\n",
        "t1 = time.time()\n",
        "print('map generation time: %.2f secs' % (round(t1-t0, ndigits=2)))\n",
        "plt.imshow(img.squeeze(), cmap='gray')\n",
        "plt.show()\n",
        "plt.imshow(prob_map.squeeze(), cmap='jet')\n",
        "plt.show()"
      ],
      "execution_count": 21,
      "outputs": [
        {
          "output_type": "stream",
          "text": [
            "map generation time: 14.91 secs\n"
          ],
          "name": "stdout"
        },
        {
          "output_type": "display_data",
          "data": {
            "image/png": "[encoded data removed]",
            "text/plain": [
              "<Figure size 432x288 with 1 Axes>"
            ]
          },
          "metadata": {
            "tags": []
          }
        },
        {
          "output_type": "display_data",
          "data": {
            "image/png": "[encoded data removed]",
            "text/plain": [
              "<Figure size 432x288 with 1 Axes>"
            ]
          },
          "metadata": {
            "tags": []
          }
        }
      ]
    },
    {
      "cell_type": "code",
      "metadata": {
        "id": "N39hb1wTrnXb",
        "colab_type": "code",
        "colab": {}
      },
      "source": [
        "net1 = Model(inputA, x3)\n",
        "y_pred1 = net1.predict(x=X_test)\n",
        "y_pred = net.predict(x=X_test)\n",
        "# fig = plt.figure(figsize=(3, 3))\n",
        "plt.imshow(X_test[1].squeeze())\n",
        "plt.show()\n",
        "for i in range(10):\n",
        "  plt.imshow(y_pred1[1, :, :, i])\n",
        "  plt.show()\n",
        "print(y_test[0][1])\n",
        "print(y_pred[1])"
      ],
      "execution_count": 0,
      "outputs": []
    },
    {
      "cell_type": "code",
      "metadata": {
        "id": "kdwDHxcJ5C00",
        "colab_type": "code",
        "outputId": "c0a9fdd0-2d05-411f-bccc-3d64f29716ec",
        "colab": {
          "base_uri": "https://localhost:8080/",
          "height": 373
        }
      },
      "source": [
        "j = 8\n",
        "net_dense = Model(inputA, x5)\n",
        "y_dense = net_dense.predict(x=X_test)\n",
        "y_pred = net.predict(x=X_test)\n",
        "\n",
        "plt.imshow(X_test[j].squeeze())\n",
        "plt.show()\n",
        "\n",
        "print(y_dense[j])\n",
        "\n",
        "print(y_test[0])\n",
        "print(y_pred[j])"
      ],
      "execution_count": 0,
      "outputs": [
        {
          "output_type": "display_data",
          "data": {
            "image/png": "[encoded data removed]",
            "text/plain": [
              "<Figure size 432x288 with 1 Axes>"
            ]
          },
          "metadata": {
            "tags": []
          }
        },
        {
          "output_type": "stream",
          "text": [
            "[ 0.         0.         0.         3.8754756  1.0161211  6.431295\n",
            "  3.937914   1.8170772  0.        10.137731 ]\n",
            "[0 1 1 1 1 1 0 1 0 1 0 0 1 0 0 0 1 1 1 1 0 1 0 0 0 0 1 1 1 1 0 0 1 0 0 0 1\n",
            " 1 0 1 0 0 1 1 1 1 1 1 1 1 0 1 0 1 1 0 0 1 0 0 0 1 1 0 1 0 0 1 0 0 1 1 0 0\n",
            " 1 1 0 1 0 0 1 1 0 1 0 0 1 0 1 0 1 1 0]\n",
            "[0.00055698]\n"
          ],
          "name": "stdout"
        }
      ]
    }
  ]
}