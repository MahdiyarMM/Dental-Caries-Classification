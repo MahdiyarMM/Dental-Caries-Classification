{
  "nbformat": 4,
  "nbformat_minor": 0,
  "metadata": {
    "colab": {
      "name": "dental_caries_detection_v0.2.ipynb",
      "provenance": [],
      "collapsed_sections": []
    },
    "kernelspec": {
      "name": "python3",
      "display_name": "Python 3"
    },
    "accelerator": "GPU"
  },
  "cells": [
    {
      "cell_type": "code",
      "metadata": {
        "id": "VTPyWg9YMkTJ",
        "colab_type": "code",
        "colab": {}
      },
      "source": [
        "from google.colab import drive\n",
        "drive.mount('/content/drive')"
      ],
      "execution_count": 0,
      "outputs": []
    },
    {
      "cell_type": "code",
      "metadata": {
        "id": "zsPQIpBpN8PX",
        "colab_type": "code",
        "colab": {}
      },
      "source": [
        "%tensorflow_version 1.x\n",
        "from keras.layers import Conv2D, MaxPooling2D, Flatten, Dense, Input\n",
        "from keras.preprocessing.image import load_img, img_to_array\n",
        "import numpy as np\n",
        "import matplotlib.pyplot as plt\n",
        "from itertools import chain\n",
        "import glob\n",
        "import copy\n",
        "import time"
      ],
      "execution_count": 0,
      "outputs": []
    },
    {
      "cell_type": "code",
      "metadata": {
        "id": "64bkKOAC5FuH",
        "colab_type": "code",
        "colab": {}
      },
      "source": [
        "'''fit the image to the background (when needed)'''\n",
        "import cv2\n",
        "\n",
        "def fit_to_background(image):\n",
        "  image = image.squeeze()\n",
        "  _, res = cv2.threshold(src=image, thresh=10, maxval=255, type=cv2.THRESH_BINARY)\n",
        "  res = np.where(res>0, 255, 0).astype(np.uint8)\n",
        "  _, cnts, _ = cv2.findContours(res, mode=cv2.RETR_EXTERNAL, method=cv2.CHAIN_APPROX_SIMPLE)\n",
        "  x, y, w, h = cv2.boundingRect(cnts[0])\n",
        "  image = image[y:y+h, x:x+w]\n",
        "  image = cv2.resize(src=image, dsize=(400, 400))\n",
        "  return image"
      ],
      "execution_count": 0,
      "outputs": []
    },
    {
      "cell_type": "code",
      "metadata": {
        "id": "FjdcCou6Qg6u",
        "colab_type": "code",
        "outputId": "71ea3e58-cfef-400d-c3ae-56a6e08a969c",
        "colab": {
          "base_uri": "https://localhost:8080/",
          "height": 35
        }
      },
      "source": [
        "path = './drive/My Drive/small_caries_dataset/Healthy/**.jpg'\n",
        "neg_images = list()\n",
        "for img_name in glob.glob(pathname=path):\n",
        "  img = load_img(path=img_name, color_mode='grayscale')\n",
        "  img = img_to_array(img=img, data_format='channels_last')\n",
        "  img = fit_to_background(img)\n",
        "  img = np.expand_dims(a=img, axis=-1)\n",
        "  neg_images.append(img)\n",
        "\n",
        "neg_images = np.array(neg_images)\n",
        "print('num healthy images:', len(neg_images))"
      ],
      "execution_count": 0,
      "outputs": [
        {
          "output_type": "stream",
          "text": [
            "num healthy images: 238\n"
          ],
          "name": "stdout"
        }
      ]
    },
    {
      "cell_type": "code",
      "metadata": {
        "colab_type": "code",
        "outputId": "da0a1497-76a3-4e5f-fdc4-6361f6d0e79f",
        "id": "UZyUcUD-VNdM",
        "colab": {
          "base_uri": "https://localhost:8080/",
          "height": 35
        }
      },
      "source": [
        "path = './drive/My Drive/small_caries_dataset/Caries/**.jpg'\n",
        "pos_images = list()\n",
        "for img_name in glob.glob(pathname=path):\n",
        "  img = load_img(path=img_name, color_mode='grayscale')\n",
        "  img = img_to_array(img=img, data_format='channels_last')\n",
        "  img = fit_to_background(img)\n",
        "  img = np.expand_dims(a=img, axis=-1)\n",
        "  pos_images.append(img)\n",
        "\n",
        "pos_images = np.array(pos_images)\n",
        "print('num carious images:', len(pos_images))"
      ],
      "execution_count": 0,
      "outputs": [
        {
          "output_type": "stream",
          "text": [
            "num carious images: 45\n"
          ],
          "name": "stdout"
        }
      ]
    },
    {
      "cell_type": "code",
      "metadata": {
        "id": "Y5Ks_6s5ePrA",
        "colab_type": "code",
        "outputId": "f62cac3c-7219-4d53-a180-1d3a71fbedde",
        "colab": {
          "base_uri": "https://localhost:8080/",
          "height": 35
        }
      },
      "source": [
        "num_iter = int(len(neg_images) / len(pos_images))-1\n",
        "generated_pos_images = copy.deepcopy(x=pos_images)\n",
        "for _ in range(num_iter):\n",
        "  new_pos_images = copy.deepcopy(x=pos_images)\n",
        "  generated_pos_images = np.concatenate((generated_pos_images, new_pos_images))\n",
        "\n",
        "print('num repeated carious images:', len(generated_pos_images))"
      ],
      "execution_count": 0,
      "outputs": [
        {
          "output_type": "stream",
          "text": [
            "num repeated carious images: 225\n"
          ],
          "name": "stdout"
        }
      ]
    },
    {
      "cell_type": "code",
      "metadata": {
        "id": "ysz_jwbqXTMl",
        "colab_type": "code",
        "colab": {}
      },
      "source": [
        "neg_labels = [0 for _ in range(len(neg_images))]\n",
        "pos_labels = [1 for _ in range(len(generated_pos_images))]"
      ],
      "execution_count": 0,
      "outputs": []
    },
    {
      "cell_type": "code",
      "metadata": {
        "id": "cSoCU0GJXsSZ",
        "colab_type": "code",
        "outputId": "9ff17e30-930c-49f5-c273-913946330b34",
        "colab": {
          "base_uri": "https://localhost:8080/",
          "height": 52
        }
      },
      "source": [
        "X = np.concatenate((generated_pos_images, neg_images))\n",
        "y = np.array(pos_labels + neg_labels)\n",
        "\n",
        "print('num total dataset images:', len(X))\n",
        "print('num total dataset labels:', len(y))"
      ],
      "execution_count": 0,
      "outputs": [
        {
          "output_type": "stream",
          "text": [
            "num total dataset images: 463\n",
            "num total dataset labels: 463\n"
          ],
          "name": "stdout"
        }
      ]
    },
    {
      "cell_type": "code",
      "metadata": {
        "id": "bojZMZoUVWZ7",
        "colab_type": "code",
        "colab": {}
      },
      "source": [
        "from sklearn.model_selection import train_test_split\n",
        "X_train, X_test, y_train, y_test = train_test_split(X, y, test_size=0.2)"
      ],
      "execution_count": 0,
      "outputs": []
    },
    {
      "cell_type": "code",
      "metadata": {
        "id": "C5u6eHa9YCop",
        "colab_type": "code",
        "colab": {}
      },
      "source": [
        "from keras import Model\n",
        "inputA = Input(shape=X_train[0].shape)\n",
        "\n",
        "x = Conv2D(filters=64, kernel_size=3, strides=2, padding='same', activation='relu')(inputA)\n",
        "x1 = MaxPooling2D(pool_size=2, strides=2, padding='same')(x)\n",
        "x2 = Conv2D(filters=32, kernel_size=3, strides=2, padding='same', activation='relu')(x1)\n",
        "x3 = MaxPooling2D(pool_size=2, strides=2, padding='same')(x2)\n",
        "x4 = Flatten()(x3)\n",
        "x5 = Dense(units=10, activation='relu')(x4)\n",
        "x6 = Dense(units=1, activation='sigmoid')(x5)\n",
        "net = Model(inputs=inputA, outputs=x6)"
      ],
      "execution_count": 0,
      "outputs": []
    },
    {
      "cell_type": "code",
      "metadata": {
        "id": "PNntOAX_a1NX",
        "colab_type": "code",
        "colab": {}
      },
      "source": [
        "from keras import optimizers\n",
        "\n",
        "net.compile(optimizer='adam', loss='binary_crossentropy', metrics=['accuracy'])\n",
        "net.summary()"
      ],
      "execution_count": 0,
      "outputs": []
    },
    {
      "cell_type": "code",
      "metadata": {
        "id": "anFGnFI8mWn8",
        "colab_type": "code",
        "colab": {}
      },
      "source": [
        "from keras.preprocessing.image import ImageDataGenerator\n",
        "\n",
        "aug = ImageDataGenerator(rescale=1./255, rotation_range=30, zoom_range=[1., 2.], \n",
        "                         width_shift_range=0.25, height_shift_range=0.25, \n",
        "                         shear_range=0.15, horizontal_flip=True, \n",
        "                         vertical_flip=True, fill_mode='nearest')\n",
        "\n",
        "test_aug = ImageDataGenerator(rescale=1./255)"
      ],
      "execution_count": 0,
      "outputs": []
    },
    {
      "cell_type": "code",
      "metadata": {
        "id": "LnvcWUNkbKXx",
        "colab_type": "code",
        "colab": {}
      },
      "source": [
        "# from keras.callbacks import LambdaCallback\n",
        "# weights = LambdaCallback(on_epoch_end=lambda batch, logs: print(net.layers[10].get_weights()))\n",
        "\n",
        "t0 = time.time()\n",
        "net.fit_generator(generator=aug.flow(x=X_train, y=y_train, batch_size=8), \n",
        "                  steps_per_epoch=None, epochs=10, verbose=1)\n",
        "\n",
        "t1 = time.time()\n",
        "print('total training time: %.2f secs' % (round(t1-t0, ndigits=2)))"
      ],
      "execution_count": 0,
      "outputs": []
    },
    {
      "cell_type": "code",
      "metadata": {
        "id": "In-QJohqmRD5",
        "colab_type": "code",
        "colab": {}
      },
      "source": [
        "from sklearn.metrics import confusion_matrix\n",
        "\n",
        "y_pred = net.predict_generator(generator=test_aug.flow(x=X_test, batch_size=1),\n",
        "                               steps=len(X_test))\n",
        "y_test = np.reshape(a=y_test, newshape=(1, -1))\n",
        "\n",
        "print('num test-set images:', len(y_test[0]))\n",
        "print(y_test)\n",
        "y_pred = np.round(np.reshape(a=y_pred, newshape=(1, -1)))\n",
        "print(y_pred)\n",
        "# print(np.reshape(a=y_pred, newshape=(1, -1)))\n",
        "\n",
        "cm = confusion_matrix(y_true=y_test[0], y_pred=y_pred[0])\n",
        "print(cm)\n",
        "print('test-set acc:', (cm[0][0] + cm[1][1])/np.sum(cm))"
      ],
      "execution_count": 0,
      "outputs": []
    },
    {
      "cell_type": "code",
      "metadata": {
        "id": "RT-J9_bqWwho",
        "colab_type": "code",
        "outputId": "7b45158a-bac6-4061-80f0-eec7beb7a195",
        "colab": {
          "base_uri": "https://localhost:8080/",
          "height": 539
        }
      },
      "source": [
        "img = X_test[10] / 255.\n",
        "k_sz = 3\n",
        "prob_map = np.zeros(shape=img.shape)\n",
        "t0 = time.time()\n",
        "for row_idx in range(0, img.shape[1]-k_sz, k_sz):\n",
        "  for col_idx in range(0, img.shape[0]-k_sz, k_sz):\n",
        "    masked = copy.deepcopy(x=img)\n",
        "    masked[row_idx:row_idx+k_sz, col_idx:col_idx+k_sz] = 0\n",
        "    prob = net.predict(x=masked.reshape(1, img.shape[0], img.shape[1], 1))\n",
        "    # print(prob)\n",
        "    prob_map[row_idx:row_idx+k_sz, col_idx:col_idx+k_sz] = 1 - prob\n",
        "\n",
        "t1 = time.time()\n",
        "print('map generation time: %.2f secs' % (round(t1-t0, ndigits=2)))\n",
        "plt.imshow(img.squeeze(), cmap='gray')\n",
        "plt.show()\n",
        "plt.imshow(prob_map.squeeze(), cmap='jet')\n",
        "plt.show()"
      ],
      "execution_count": 0,
      "outputs": [
        {
          "output_type": "stream",
          "text": [
            "map generation time: 37.13 secs\n"
          ],
          "name": "stdout"
        },
        {
          "output_type": "display_data",
          "data": {
            "image/png": "[encoded data removed]",
            "text/plain": [
              "<Figure size 432x288 with 1 Axes>"
            ]
          },
          "metadata": {
            "tags": []
          }
        },
        {
          "output_type": "display_data",
          "data": {
            "image/png": "[encoded data removed]",
            "text/plain": [
              "<Figure size 432x288 with 1 Axes>"
            ]
          },
          "metadata": {
            "tags": []
          }
        }
      ]
    }
  ]
}