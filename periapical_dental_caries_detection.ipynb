{
  "nbformat": 4,
  "nbformat_minor": 0,
  "metadata": {
    "colab": {
      "name": "periapical_dental_caries_detection.ipynb",
      "provenance": [],
      "collapsed_sections": [],
      "include_colab_link": true
    },
    "kernelspec": {
      "name": "python3",
      "display_name": "Python 3"
    },
    "accelerator": "GPU"
  },
  "cells": [
    {
      "cell_type": "markdown",
      "metadata": {
        "id": "view-in-github",
        "colab_type": "text"
      },
      "source": [
        "<a href=\"https://colab.research.google.com/github/armiro/Dental-Caries-Classification/blob/master/periapical_dental_caries_detection.ipynb\" target=\"_parent\"><img src=\"https://colab.research.google.com/assets/colab-badge.svg\" alt=\"Open In Colab\"/></a>"
      ]
    },
    {
      "cell_type": "code",
      "metadata": {
        "id": "Pg8FtFBMkdc1",
        "colab_type": "code",
        "colab": {}
      },
      "source": [
        "from google.colab import drive\n",
        "drive.mount('/content/drive')"
      ],
      "execution_count": 0,
      "outputs": []
    },
    {
      "cell_type": "code",
      "metadata": {
        "id": "Ts4nM4iRmW5U",
        "colab_type": "code",
        "colab": {}
      },
      "source": [
        "from keras.layers import Conv2D, MaxPooling2D, Flatten, Dense, Input, BatchNormalization, Add\n",
        "from keras.preprocessing.image import load_img, img_to_array\n",
        "import numpy as np\n",
        "import matplotlib.pyplot as plt\n",
        "import glob, time, os, shutil\n",
        "\n",
        "next_init_epoch = 0"
      ],
      "execution_count": 0,
      "outputs": []
    },
    {
      "cell_type": "code",
      "metadata": {
        "id": "F9cIr2PamePd",
        "colab_type": "code",
        "outputId": "4a29fbba-4026-4683-9512-ca5778bbceaf",
        "colab": {
          "base_uri": "https://localhost:8080/",
          "height": 35
        }
      },
      "source": [
        "path = './drive/My Drive/periapical_dataset/healthy/**.jpg'\n",
        "neg_images = list()\n",
        "for img_name in glob.glob(pathname=path):\n",
        "  img = load_img(path=img_name, color_mode='grayscale')\n",
        "  img = img_to_array(img=img, data_format='channels_last')\n",
        "  # img = np.expand_dims(a=img, axis=-1)\n",
        "  neg_images.append(img)\n",
        "\n",
        "neg_images = np.array(neg_images)\n",
        "print('num healthy images:', len(neg_images))"
      ],
      "execution_count": 3,
      "outputs": [
        {
          "output_type": "stream",
          "text": [
            "num healthy images: 139\n"
          ],
          "name": "stdout"
        }
      ]
    },
    {
      "cell_type": "code",
      "metadata": {
        "id": "596pxY8FnhrE",
        "colab_type": "code",
        "outputId": "eaf38c9f-5904-42f9-9a02-e1ddbf7d3ef5",
        "colab": {
          "base_uri": "https://localhost:8080/",
          "height": 35
        }
      },
      "source": [
        "path = './drive/My Drive/periapical_dataset/caries/**.jpg'\n",
        "pos_images = list()\n",
        "for img_name in glob.glob(pathname=path):\n",
        "  img = load_img(path=img_name, color_mode='grayscale')\n",
        "  img = img_to_array(img=img, data_format='channels_last')\n",
        "  # img = np.expand_dims(a=img, axis=-1)\n",
        "  pos_images.append(img)\n",
        "\n",
        "pos_images = np.array(pos_images)\n",
        "print('num carious images:', len(pos_images))"
      ],
      "execution_count": 4,
      "outputs": [
        {
          "output_type": "stream",
          "text": [
            "num carious images: 145\n"
          ],
          "name": "stdout"
        }
      ]
    },
    {
      "cell_type": "code",
      "metadata": {
        "id": "OEEQKffbnrwO",
        "colab_type": "code",
        "colab": {}
      },
      "source": [
        "neg_labels = [0 for _ in range(len(neg_images))]\n",
        "pos_labels = [1 for _ in range(len(pos_images))]"
      ],
      "execution_count": 0,
      "outputs": []
    },
    {
      "cell_type": "code",
      "metadata": {
        "id": "BSyL3AufnvxG",
        "colab_type": "code",
        "outputId": "6def4ccd-880b-4dba-fddd-a76c9aca00cf",
        "colab": {
          "base_uri": "https://localhost:8080/",
          "height": 52
        }
      },
      "source": [
        "X = np.concatenate((pos_images, neg_images))\n",
        "y = np.array(pos_labels + neg_labels)\n",
        "\n",
        "print('num total dataset images:', len(X))\n",
        "print('num total dataset labels:', len(y))"
      ],
      "execution_count": 6,
      "outputs": [
        {
          "output_type": "stream",
          "text": [
            "num total dataset images: 284\n",
            "num total dataset labels: 284\n"
          ],
          "name": "stdout"
        }
      ]
    },
    {
      "cell_type": "code",
      "metadata": {
        "id": "yWcBPalwn0YU",
        "colab_type": "code",
        "colab": {}
      },
      "source": [
        "from sklearn.model_selection import train_test_split\n",
        "X_train, X_test, y_train, y_test = train_test_split(X, y, test_size=0.2)"
      ],
      "execution_count": 0,
      "outputs": []
    },
    {
      "cell_type": "code",
      "metadata": {
        "id": "zJClWhw1pHTl",
        "colab_type": "code",
        "colab": {}
      },
      "source": [
        "from keras.preprocessing.image import ImageDataGenerator\n",
        "\n",
        "aug = ImageDataGenerator(rescale=1./255, rotation_range=0, zoom_range=[1., 2.], \n",
        "                         width_shift_range=0.25, height_shift_range=0.25, \n",
        "                         shear_range=0.15, horizontal_flip=True, \n",
        "                         vertical_flip=True, zca_whitening=True, fill_mode='nearest')\n",
        "\n",
        "test_aug = ImageDataGenerator(rescale=1./255)"
      ],
      "execution_count": 0,
      "outputs": []
    },
    {
      "cell_type": "code",
      "metadata": {
        "id": "J2eyA5aKn05i",
        "colab_type": "code",
        "colab": {}
      },
      "source": [
        "from keras import Model\n",
        "inputA = Input(shape=X_train[0].shape)\n",
        "\n",
        "x = Conv2D(filters=128, kernel_size=3, strides=2, padding='same', activation='relu')(inputA)\n",
        "x = BatchNormalization()(x)\n",
        "x1 = MaxPooling2D(pool_size=2, strides=2, padding='same')(x)\n",
        "x2 = Conv2D(filters=64, kernel_size=3, strides=2, padding='same', activation='relu')(x1)\n",
        "x2 = BatchNormalization()(x2)\n",
        "x3 = MaxPooling2D(pool_size=2, strides=2, padding='same')(x2)\n",
        "x4 = Conv2D(filters=64, kernel_size=3, strides=2, padding='same', activation='relu')(x3)\n",
        "x4 = BatchNormalization()(x4)\n",
        "x5 = MaxPooling2D(pool_size=2, strides=2, padding='same')(x4)\n",
        "x6 = Flatten()(x5)\n",
        "x7 = Dense(units=50, activation='relu')(x6)\n",
        "x8 = Dense(units=25, activation='relu')(x7)\n",
        "x9 = Dense(units=10, activation='relu')(x8)\n",
        "x10 = Dense(units=1, activation='sigmoid')(x9)\n",
        "net = Model(inputs=inputA, outputs=x10)"
      ],
      "execution_count": 0,
      "outputs": []
    },
    {
      "cell_type": "code",
      "metadata": {
        "id": "ifBsq7X6n8Ae",
        "colab_type": "code",
        "colab": {}
      },
      "source": [
        "net.compile(optimizer='adam', loss='binary_crossentropy', metrics=['accuracy'])\n",
        "net.summary()"
      ],
      "execution_count": 0,
      "outputs": []
    },
    {
      "cell_type": "code",
      "metadata": {
        "id": "T1bu_hRdTaW4",
        "colab_type": "code",
        "colab": {}
      },
      "source": [
        "def get_last_weights(folder):\n",
        "  \"\"\"\n",
        "  find last saved weights file and its epoch number\n",
        "  :param folder: string\n",
        "  :return: int, string\n",
        "  \"\"\"\n",
        "  num_epochs = list()\n",
        "  for weights_file in glob.glob(folder + '/**.hdf5'):\n",
        "    num_epoch = int(weights_file[weights_file.find('=')+1:weights_file.find('_')])\n",
        "    num_epochs.append((num_epoch, weights_file))\n",
        "\n",
        "  last_epoch = max(num_epochs)[0]\n",
        "  print('last saved epoch:', last_epoch)\n",
        "  last_file = max(num_epochs)[1]\n",
        "  print('last saved file:', last_file)\n",
        "  return last_epoch, last_file\n",
        "\n",
        "\n",
        "def delete_other_weights(folder, last_file):\n",
        "  \"\"\"\n",
        "  delete all weigths files saved before, except the last one which is the best\n",
        "  :param folder: string\n",
        "  :return None\n",
        "  \"\"\"\n",
        "\n",
        "  for weights_file in os.listdir(folder):\n",
        "      file_path = os.path.join(folder, weights_file)\n",
        "      if file_path != last_file:\n",
        "        try:\n",
        "          if os.path.isfile(file_path) or os.path.islink(file_path):\n",
        "              os.unlink(file_path)\n",
        "          elif os.path.isdir(file_path):\n",
        "              shutil.rmtree(file_path)\n",
        "        except Exception as e:\n",
        "          print('failed to delete %s. because of: %s' % (file_path, e))\n",
        "      else:\n",
        "        pass\n",
        "  print('deleted all weights files saved before, except the last one.')"
      ],
      "execution_count": 0,
      "outputs": []
    },
    {
      "cell_type": "code",
      "metadata": {
        "id": "kFg5-vf5nHcG",
        "colab_type": "code",
        "colab": {}
      },
      "source": [
        "# load the last saved weigths file as the model's weights and delete others\n",
        "# run it ONLY if Google Colab stopped in the middle of model training\n",
        "weights_folder = '/content/drive/My Drive/model'\n",
        "next_init_epoch, last_epoch_weights_file = get_last_weights(weights_folder)\n",
        "net.load_weights(last_epoch_weights_file)\n",
        "delete_other_weights(folder=weights_folder, last_file=last_epoch_weights_file)"
      ],
      "execution_count": 0,
      "outputs": []
    },
    {
      "cell_type": "code",
      "metadata": {
        "id": "qSF3pgJ2l2zs",
        "colab_type": "code",
        "colab": {}
      },
      "source": [
        "from keras.callbacks import ModelCheckpoint\n",
        "\n",
        "file_path = '/content/drive/My Drive/model/epochs={epoch:03d}_valAcc={val_acc:.4f}.hdf5'\n",
        "checkpoint = ModelCheckpoint(file_path, monitor='val_acc', verbose=1,\n",
        "                             save_best_only=True, mode='max')\n",
        "\n",
        "cb_list = [checkpoint]"
      ],
      "execution_count": 0,
      "outputs": []
    },
    {
      "cell_type": "code",
      "metadata": {
        "id": "oUT_GuP_pPO-",
        "colab_type": "code",
        "colab": {}
      },
      "source": [
        "net.fit_generator(generator=aug.flow(x=X_train, y=y_train, batch_size=16), \n",
        "                  steps_per_epoch=50, initial_epoch=next_init_epoch, epochs=400, \n",
        "                  verbose=1, callbacks=cb_list, validation_data=aug.flow(x=X_train, y=y_train, batch_size=16))\n"
      ],
      "execution_count": 0,
      "outputs": []
    },
    {
      "cell_type": "code",
      "metadata": {
        "id": "ZdX7lWZSMRDU",
        "colab_type": "code",
        "outputId": "cc230dcb-bb06-40e2-d41c-d895ebbda1f5",
        "colab": {
          "base_uri": "https://localhost:8080/",
          "height": 87
        }
      },
      "source": [
        "# save the final best weights and delete others (after training is finished)\n",
        "weights_folder = '/content/drive/My Drive/model'\n",
        "_, best_weights = get_last_weights(weights_folder)\n",
        "acc = float(best_weights[best_weights.rfind('=')+1:best_weights.rfind('.')])\n",
        "print('best validation accuracy:', acc)\n",
        "net.load_weights(best_weights)\n",
        "delete_other_weights(folder=weights_folder, last_file=best_weights)"
      ],
      "execution_count": 12,
      "outputs": [
        {
          "output_type": "stream",
          "text": [
            "last saved epoch: 301\n",
            "last saved file: /content/drive/My Drive/model/epochs=301_valAcc=0.8678.hdf5\n",
            "best validation accuracy: 0.8678\n",
            "deleted all weights files saved before, except the last one.\n"
          ],
          "name": "stdout"
        }
      ]
    },
    {
      "cell_type": "code",
      "metadata": {
        "id": "mEAu9BaNVgZZ",
        "colab_type": "code",
        "outputId": "ef40c305-0c6b-4509-f5f0-1baed1027109",
        "colab": {
          "base_uri": "https://localhost:8080/",
          "height": 173
        }
      },
      "source": [
        "from sklearn.metrics import confusion_matrix\n",
        "\n",
        "y_pred = net.predict_generator(generator=test_aug.flow(x=X_test, batch_size=1, shuffle=False),\n",
        "                               steps=len(X_test))\n",
        "y_test = np.reshape(a=y_test, newshape=(1, -1))\n",
        "\n",
        "print('num test-set images:', len(y_test[0]))\n",
        "print(y_test)\n",
        "y_pred = np.round(np.reshape(a=y_pred, newshape=(1, -1)))\n",
        "# y_pred = np.round(np.reshape(a=y_pred, newshape=(1, -1)), decimals=2)\n",
        "print(y_pred)\n",
        "\n",
        "cm = confusion_matrix(y_true=y_test[0], y_pred=y_pred[0])\n",
        "print(cm)\n",
        "print('test-set acc:', (cm[0][0] + cm[1][1])/np.sum(cm))"
      ],
      "execution_count": 14,
      "outputs": [
        {
          "output_type": "stream",
          "text": [
            "num test-set images: 57\n",
            "[[0 1 1 0 0 0 0 0 1 0 1 0 1 0 0 0 0 0 1 0 1 0 1 1 0 0 0 1 1 0 0 0 0 1 0 1\n",
            "  1 0 1 1 0 0 0 0 1 1 1 0 1 0 1 1 0 1 1 0 0]]\n",
            "[[0. 1. 1. 0. 0. 1. 1. 0. 1. 0. 1. 1. 0. 0. 0. 1. 1. 0. 1. 0. 1. 0. 1. 1.\n",
            "  0. 0. 1. 1. 1. 0. 0. 1. 1. 1. 0. 1. 1. 0. 1. 1. 0. 0. 0. 1. 0. 1. 1. 0.\n",
            "  1. 1. 0. 1. 0. 0. 1. 1. 0.]]\n",
            "[[22 11]\n",
            " [ 4 20]]\n",
            "test-set acc: 0.7368421052631579\n"
          ],
          "name": "stdout"
        }
      ]
    }
  ]
}